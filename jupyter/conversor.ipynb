{
 "cells": [
  {
   "cell_type": "code",
   "execution_count": null,
   "metadata": {},
   "outputs": [],
   "source": [
    "from pytube import YouTube\n",
    "from moviepy.editor import AudioFileClip\n",
    "import os"
   ]
  },
  {
   "cell_type": "code",
   "execution_count": null,
   "metadata": {},
   "outputs": [],
   "source": [
    "#url = 'https://www.youtube.com/watch?v=h3pbEKl6TkI&ab_channel=MariMari142'\n",
    "\n",
    "def download_video(url):\n",
    "    yt = YouTube(url)\n",
    "    video = yt.streams.get_highest_resolution()\n",
    "    video.download(f'C:/Users/Gabriel/Downloads')\n",
    "    return video.default_filename"
   ]
  },
  {
   "cell_type": "code",
   "execution_count": null,
   "metadata": {},
   "outputs": [],
   "source": [
    "def convert_to_mp3(video_name):\n",
    "    video = AudioFileClip(f'C:/Users/Gabriel/Downloads/{video_name}')\n",
    "    video.write_audiofile(f'C:/Users/Gabriel/Downloads/{video_name[:-4]}.mp3')\n",
    "    return video_name[:-4]"
   ]
  },
  {
   "cell_type": "code",
   "execution_count": null,
   "metadata": {},
   "outputs": [],
   "source": [
    "video_filename = download_video(url)\n",
    "convert_to_mp3(video_filename)"
   ]
  }
 ],
 "metadata": {
  "kernelspec": {
   "display_name": "Python 3",
   "language": "python",
   "name": "python3"
  },
  "language_info": {
   "codemirror_mode": {
    "name": "ipython",
    "version": 3
   },
   "file_extension": ".py",
   "mimetype": "text/x-python",
   "name": "python",
   "nbconvert_exporter": "python",
   "pygments_lexer": "ipython3",
   "version": "3.11.5"
  }
 },
 "nbformat": 4,
 "nbformat_minor": 2
}
